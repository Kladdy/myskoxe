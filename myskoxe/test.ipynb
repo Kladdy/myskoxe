{
 "cells": [
  {
   "cell_type": "code",
   "execution_count": null,
   "metadata": {},
   "outputs": [],
   "source": [
    "import tensorflow as tf\n",
    "import numpy as np\n",
    "\n",
    "# Create a random matrix\n",
    "matrix = np.random.rand(1000, 1000).astype(np.float32)\n",
    "\n",
    "# Convert the numpy matrix to a TensorFlow tensor\n",
    "tf_matrix = tf.convert_to_tensor(matrix)"
   ]
  },
  {
   "cell_type": "code",
   "execution_count": 3,
   "metadata": {},
   "outputs": [
    {
     "name": "stdout",
     "output_type": "stream",
     "text": [
      "92.7 μs ± 464 ns per loop (mean ± std. dev. of 7 runs, 10,000 loops each)\n"
     ]
    }
   ],
   "source": [
    "# Define the matrix inversion operation\n",
    "def invert_matrix():\n",
    "    tf.linalg.inv(tf_matrix)\n",
    "\n",
    "# Use %timeit to measure the time taken to invert the matrix\n",
    "%timeit invert_matrix()"
   ]
  },
  {
   "cell_type": "code",
   "execution_count": null,
   "metadata": {},
   "outputs": [],
   "source": []
  }
 ],
 "metadata": {
  "kernelspec": {
   "display_name": "myskoxe-env",
   "language": "python",
   "name": "python3"
  },
  "language_info": {
   "codemirror_mode": {
    "name": "ipython",
    "version": 3
   },
   "file_extension": ".py",
   "mimetype": "text/x-python",
   "name": "python",
   "nbconvert_exporter": "python",
   "pygments_lexer": "ipython3",
   "version": "3.11.8"
  }
 },
 "nbformat": 4,
 "nbformat_minor": 2
}
